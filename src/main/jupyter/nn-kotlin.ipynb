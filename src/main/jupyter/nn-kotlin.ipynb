{
 "cells": [
  {
   "cell_type": "code",
   "execution_count": 1,
   "metadata": {},
   "outputs": [
    {
     "name": "stdout",
     "output_type": "stream",
     "text": [
      "Added new repo kyonifer\n"
     ]
    }
   ],
   "source": [
    "%classpath config resolver kyonifer http://dl.bintray.com/kyonifer/maven"
   ]
  },
  {
   "cell_type": "code",
   "execution_count": 2,
   "metadata": {},
   "outputs": [
    {
     "data": {
      "application/vnd.jupyter.widget-view+json": {
       "model_id": "54440a15-ae49-4929-82ab-0aa9f487d81b",
       "version_major": 2,
       "version_minor": 0
      },
      "method": "display_data"
     },
     "metadata": {},
     "output_type": "display_data"
    },
    {
     "name": "stdout",
     "output_type": "stream",
     "text": [
      "Added jars: [slf4j-api-1.7.21.jar, kotlin-stdlib-1.2.10.jar, core-0.11.jar, xchart-3.1.0.jar, annotations-13.0.jar, VectorGraphics2D-0.11.jar]\n"
     ]
    },
    {
     "data": {
      "application/vnd.jupyter.widget-view+json": {
       "model_id": "4599d142-eb48-4283-988a-e913e85a27b8",
       "version_major": 2,
       "version_minor": 0
      },
      "method": "display_data"
     },
     "metadata": {},
     "output_type": "display_data"
    },
    {
     "name": "stdout",
     "output_type": "stream",
     "text": [
      "Added jars: [simple-0.27.jar, denseC64-0.27.jar, dense64-0.27.jar, equation-0.27.jar, all-0.27.jar, core-0.27.jar, backend-matrix-ejml-0.11.jar]\n"
     ]
    }
   ],
   "source": [
    "%classpath add mvn 'koma' 'core' '0.11'\n",
    "%classpath add mvn 'koma' 'backend-matrix-ejml' '0.11'"
   ]
  },
  {
   "cell_type": "code",
   "execution_count": 3,
   "metadata": {},
   "outputs": [
    {
     "data": {
      "text/plain": [
       "null"
      ]
     },
     "execution_count": 3,
     "metadata": {},
     "output_type": "execute_result"
    }
   ],
   "source": [
    "import koma.*\n",
    "import koma.extensions.*\n",
    "import koma.matrix.Matrix"
   ]
  },
  {
   "cell_type": "code",
   "execution_count": 4,
   "metadata": {},
   "outputs": [
    {
     "name": "stdout",
     "output_type": "stream",
     "text": [
      "mat[ 0.00,  0.00,  1.00 end\n",
      "     0.00,  1.00,  1.00 end\n",
      "     1.00,  0.00,  1.00 end\n",
      "     1.00,  1.00,  1.00 ]"
     ]
    },
    {
     "data": {
      "text/plain": [
       "null"
      ]
     },
     "execution_count": 4,
     "metadata": {},
     "output_type": "execute_result"
    }
   ],
   "source": [
    "val x = mat[0, 0, 1 end\n",
    "        0, 1, 1 end\n",
    "        1, 0, 1 end\n",
    "        1, 1, 1]\n",
    "\n",
    "print(x)"
   ]
  },
  {
   "cell_type": "code",
   "execution_count": 5,
   "metadata": {},
   "outputs": [
    {
     "name": "stdout",
     "output_type": "stream",
     "text": [
      "mat[ 0.00 end\n",
      "     1.00 end\n",
      "     1.00 end\n",
      "     0.00 ]"
     ]
    },
    {
     "data": {
      "text/plain": [
       "null"
      ]
     },
     "execution_count": 5,
     "metadata": {},
     "output_type": "execute_result"
    }
   ],
   "source": [
    "val y = mat[0, 1, 1, 0].T\n",
    "print(y)"
   ]
  },
  {
   "cell_type": "code",
   "execution_count": 6,
   "metadata": {},
   "outputs": [
    {
     "data": {
      "text/plain": [
       "null"
      ]
     },
     "execution_count": 6,
     "metadata": {},
     "output_type": "execute_result"
    }
   ],
   "source": [
    "val seed = setSeed(1)\n",
    "var syn0 = 2 * rand(3, 4) - 1\n",
    "var syn1 = 2 * rand(4, 1) - 1"
   ]
  },
  {
   "cell_type": "code",
   "execution_count": 7,
   "metadata": {},
   "outputs": [
    {
     "data": {
      "text/plain": [
       "mat[ 0.46175638140658, -0.1798383770156,   -0.58457031738057,  -0.33456588808098  end\n",
       "     0.93551181884824, -0.98776563546848,   0.92740959404642,   0.87973077756382  end\n",
       "     0.89438983532639,  0.87416429779194,  -0.20565131563059,  -0.30496394159378  ]"
      ]
     },
     "execution_count": 7,
     "metadata": {},
     "output_type": "execute_result"
    }
   ],
   "source": [
    "syn0"
   ]
  },
  {
   "cell_type": "code",
   "execution_count": 8,
   "metadata": {},
   "outputs": [
    {
     "data": {
      "text/plain": [
       "mat[-0.41188593599193  end\n",
       "     0.01296725465247  end\n",
       "    -0.76806582393468  end\n",
       "     0.54107176015836  ]"
      ]
     },
     "execution_count": 8,
     "metadata": {},
     "output_type": "execute_result"
    }
   ],
   "source": [
    "syn1"
   ]
  },
  {
   "cell_type": "code",
   "execution_count": 9,
   "metadata": {},
   "outputs": [
    {
     "data": {
      "text/plain": [
       "null"
      ]
     },
     "execution_count": 9,
     "metadata": {},
     "output_type": "execute_result"
    }
   ],
   "source": [
    "fun activate(x: Matrix<Double>): Matrix<Double> {\n",
    "    return epow((1 + exp(-x)), -1.0)\n",
    "}\n",
    "\n",
    "fun activateDx(x: Matrix<Double>): Matrix<Double> {\n",
    "    return x emul(1-x)\n",
    "}"
   ]
  },
  {
   "cell_type": "code",
   "execution_count": 10,
   "metadata": {
    "scrolled": false
   },
   "outputs": [
    {
     "data": {
      "text/plain": [
       "null"
      ]
     },
     "execution_count": 10,
     "metadata": {},
     "output_type": "execute_result"
    }
   ],
   "source": [
    "val epochs = 10_0000\n",
    "val printEvery = 2_000\n",
    "val bias = 1.0"
   ]
  },
  {
   "cell_type": "code",
   "execution_count": 11,
   "metadata": {
    "scrolled": false
   },
   "outputs": [
    {
     "name": "stdout",
     "output_type": "stream",
     "text": [
      "Error: 0.026156912904565816\n",
      "Error: 0.017147323086272974\n",
      "Error: 0.01358070735529302\n",
      "Error: 0.011554266234092222\n",
      "Error: 0.01020994290052913\n",
      "Error: 0.009236504623012804\n",
      "Error: 0.008490604586238727\n",
      "Error: 0.007895954199278394\n",
      "Error: 0.007407774802369608\n",
      "Error: 0.0069978455927786325\n",
      "Error: 0.006647391837614598\n",
      "Error: 0.006343379034636608\n",
      "Error: 0.006076440373199925\n",
      "Error: 0.005839650215147813\n",
      "Error: 0.00562776383627462\n",
      "Error: 0.005436727595668233\n",
      "Error: 0.005263352814202547\n",
      "Error: 0.005105092438578357\n",
      "Error: 0.00495988430149518\n",
      "Error: 0.004826038729503792\n",
      "Error: 0.004702156403680177\n",
      "Error: 0.0045870673040766035\n",
      "Error: 0.004479784631186936\n",
      "Error: 0.004379469550620179\n",
      "Error: 0.004285403881465718\n",
      "Error: 0.004196968697639957\n",
      "Error: 0.004113627387555323\n",
      "Error: 0.004034912115125116\n",
      "Error: 0.0039604129039523955\n",
      "Error: 0.003889768764882883\n",
      "Error: 0.0038226604300477286\n",
      "Error: 0.0037588043608137115\n",
      "Error: 0.003697947774011919\n",
      "Error: 0.0036398644882030687\n",
      "Error: 0.003584351434955034\n",
      "Error: 0.003531225712946405\n",
      "Error: 0.00348032208789592\n",
      "Error: 0.0034314908607661035\n",
      "Error: 0.003384596041845606\n",
      "Error: 0.0033395137801960997\n",
      "Error: 0.003296131007330563\n",
      "Error: 0.003254344261447238\n",
      "Error: 0.0032140586645038475\n",
      "Error: 0.003175187029209882\n",
      "Error: 0.0031376490768898527\n",
      "Error: 0.0031013707503199516\n",
      "Error: 0.003066283608212345\n",
      "Error: 0.0030323242901327593\n",
      "Error: 0.0029994340423758928\n",
      "Error: 0.0029675582967637684\n"
     ]
    },
    {
     "data": {
      "text/plain": [
       "null"
      ]
     },
     "execution_count": 11,
     "metadata": {},
     "output_type": "execute_result"
    }
   ],
   "source": [
    "for(i in 1..epochs) {\n",
    "    // start network training\n",
    "    val l0 = x\n",
    "\n",
    "    val l1 = activate(l0 * syn0)\n",
    "    val l2 = activate(l1 * syn1)\n",
    "\n",
    "    // resolve errors to backpropagate\n",
    "    val l2Error = y - l2\n",
    "    val l2Delta = l2Error emul activateDx(l2)\n",
    "\n",
    "    //l1 layer\n",
    "    val l1Error = l2Delta * syn1.T\n",
    "    val l1Delta = l1Error emul activateDx(l1)\n",
    "\n",
    "    // update weights\n",
    "    syn1 += l1.T * l2Delta\n",
    "    syn0 += l0.T * l1Delta\n",
    "\n",
    "    if (i % printEvery == 0) {\n",
    "        println(\"Error: ${mean(abs(l2Error))}\")\n",
    "    }\n",
    "}"
   ]
  },
  {
   "cell_type": "code",
   "execution_count": 12,
   "metadata": {},
   "outputs": [
    {
     "data": {
      "text/plain": [
       "null"
      ]
     },
     "execution_count": 12,
     "metadata": {},
     "output_type": "execute_result"
    }
   ],
   "source": [
    "fun test(x: Matrix<Double>, syn0: Matrix<Double>, syn1: Matrix<Double>){\n",
    "    var y = activate(x * syn0)\n",
    "    y = activate(y * syn1)\n",
    "    print(\"${if (abs(y.get(0)) > 0.3) 1 else 0} ${y}\")\n",
    "}"
   ]
  },
  {
   "cell_type": "code",
   "execution_count": 13,
   "metadata": {},
   "outputs": [
    {
     "name": "stdout",
     "output_type": "stream",
     "text": [
      "0 mat[ 0.00223711858191 ]"
     ]
    },
    {
     "data": {
      "text/plain": [
       "null"
      ]
     },
     "execution_count": 13,
     "metadata": {},
     "output_type": "execute_result"
    }
   ],
   "source": [
    "test(mat[0, 0, 1], syn0, syn1)"
   ]
  }
 ],
 "metadata": {
  "kernelspec": {
   "display_name": "Kotlin",
   "language": "kotlin",
   "name": "kotlin"
  },
  "language_info": {
   "codemirror_mode": "kt",
   "file_extension": ".kt",
   "mimetype": "",
   "name": "Kotlin",
   "nbconverter_exporter": "",
   "version": "1.2.0"
  }
 },
 "nbformat": 4,
 "nbformat_minor": 2
}
